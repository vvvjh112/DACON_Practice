{
 "cells": [
  {
   "cell_type": "code",
   "execution_count": null,
   "metadata": {},
   "outputs": [],
   "source": [
    "#sheet-gale-justin-toxic.trycloudflare.com\n",
    "#target : SUBCLASS\n",
    "#범주형 - Classifier\n",
    "\n",
    "import pandas as pd\n",
    "import numpy as np\n",
    "import random, os, scipy\n",
    "import matplotlib.pyplot as plt\n",
    "import seaborn as sns\n",
    "\n",
    "\n",
    "def seed_everything(seed):\n",
    "    random.seed(seed)\n",
    "    os.environ['PYTHONHASHSEED'] = str(seed)\n",
    "    np.random.seed(seed)\n",
    "\n",
    "seed_everything(42)\n",
    "\n",
    "print('pandas version: ', pd.__version__)\n",
    "print('numpy version: ', np.__version__)\n",
    "print('scipy version: ', scipy.__version__)"
   ]
  },
  {
   "cell_type": "code",
   "execution_count": null,
   "metadata": {},
   "outputs": [],
   "source": [
    "train = pd.read_csv('train.csv', low_memory=False)\n",
    "test = pd.read_csv('test.csv', low_memory=False)\n",
    "\n",
    "\n",
    "print(train.head())"
   ]
  },
  {
   "cell_type": "code",
   "execution_count": null,
   "metadata": {},
   "outputs": [],
   "source": [
    "# 그래프 시각화 설정\n",
    "plt.figure(figsize=(12, 6))\n",
    "\n",
    "df = train.drop(['ID','SUBCLASS'], axis = 1)\n",
    "categorical_columns = df.columns\n",
    "\n",
    "# 각 범주형 변수를 시각화\n",
    "for i, col in enumerate(categorical_columns, 1):\n",
    "    plt.subplot(1, len(categorical_columns), i)  # 여러 그래프를 한 화면에 표시\n",
    "    sns.countplot(x=col, data=df)  # palette 제거\n",
    "    plt.title(f\"Distribution of {col}\")\n",
    "    plt.xticks(rotation=45)  # x축 레이블 각도 조정\n",
    "    plt.tight_layout()  # 레이아웃 조정\n",
    "    plt.show()\n",
    "\n"
   ]
  },
  {
   "cell_type": "code",
   "execution_count": null,
   "metadata": {},
   "outputs": [],
   "source": []
  }
 ],
 "metadata": {
  "kernelspec": {
   "display_name": "Python 3",
   "language": "python",
   "name": "python3"
  },
  "language_info": {
   "codemirror_mode": {
    "name": "ipython",
    "version": 3
   },
   "file_extension": ".py",
   "mimetype": "text/x-python",
   "name": "python",
   "nbconvert_exporter": "python",
   "pygments_lexer": "ipython3",
   "version": "3.10.11"
  }
 },
 "nbformat": 4,
 "nbformat_minor": 2
}
